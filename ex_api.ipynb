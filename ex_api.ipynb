{
 "cells": [
  {
   "cell_type": "code",
   "execution_count": 1,
   "metadata": {},
   "outputs": [],
   "source": [
    "import requests\n",
    "import json\n",
    "from pprint import pprint\n",
    "import pandas as pd\n"
   ]
  },
  {
   "cell_type": "markdown",
   "metadata": {},
   "source": [
    "### Call a Web API with the URL "
   ]
  },
  {
   "cell_type": "code",
   "execution_count": 2,
   "metadata": {},
   "outputs": [],
   "source": [
    "response = requests.get(\"https://api.randomuser.me/\")"
   ]
  },
  {
   "cell_type": "markdown",
   "metadata": {},
   "source": [
    "### Print the status code of the request"
   ]
  },
  {
   "cell_type": "code",
   "execution_count": 3,
   "metadata": {},
   "outputs": [
    {
     "name": "stdout",
     "output_type": "stream",
     "text": [
      "200\n"
     ]
    }
   ],
   "source": [
    "print(response.status_code)"
   ]
  },
  {
   "cell_type": "markdown",
   "metadata": {},
   "source": [
    "### Get with the request method 10 results of only males from the US"
   ]
  },
  {
   "cell_type": "code",
   "execution_count": 23,
   "metadata": {},
   "outputs": [],
   "source": [
    "parameters = {\"gender\":\"male\",\"results\":10,\"nat\":\"US\"}"
   ]
  },
  {
   "cell_type": "code",
   "execution_count": 24,
   "metadata": {},
   "outputs": [],
   "source": [
    "response = requests.get(\"https://api.randomuser.me/\", params=parameters)"
   ]
  },
  {
   "cell_type": "code",
   "execution_count": 25,
   "metadata": {},
   "outputs": [
    {
     "name": "stdout",
     "output_type": "stream",
     "text": [
      "200\n"
     ]
    }
   ],
   "source": [
    "print(response.status_code)"
   ]
  },
  {
   "cell_type": "code",
   "execution_count": 26,
   "metadata": {},
   "outputs": [
    {
     "data": {
      "text/plain": [
       "'{\"results\":[{\"gender\":\"male\",\"name\":{\"title\":\"Mr\",\"first\":\"Larry\",\"last\":\"Mitchelle\"},\"location\":{\"street\":{\"number\":863,\"name\":\"Central St\"},\"city\":\"Los Angeles\",\"state\":\"Oklahoma\",\"country\":\"United States\",\"postcode\":19167,\"coordinates\":{\"latitude\":\"59.7871\",\"longitude\":\"35.6833\"},\"timezone\":{\"offset\":\"+1:00\",\"description\":\"Brussels, Copenhagen, Madrid, Paris\"}},\"email\":\"larry.mitchelle@example.com\",\"login\":{\"uuid\":\"97118b13-4288-4bc8-94d8-2f7222e33eb7\",\"username\":\"goldenswan591\",\"password\":\"mantis\",\"salt\":\"nsiFFRVH\",\"md5\":\"2ea19fb47f6e281ad6c03a006d580e6f\",\"sha1\":\"7b765ec2dae61741920523b12503b31b07715969\",\"sha256\":\"aec0acdff1001b0980ae2ee666a48a728872a89b8775227be17df4c28c8273fb\"},\"dob\":{\"date\":\"1954-04-09T19:59:39.105Z\",\"age\":69},\"registered\":{\"date\":\"2021-04-06T01:49:26.486Z\",\"age\":2},\"phone\":\"(311) 922-9641\",\"cell\":\"(921) 865-3924\",\"id\":{\"name\":\"SSN\",\"value\":\"449-36-2129\"},\"picture\":{\"large\":\"https://randomuser.me/api/portraits/men/44.jpg\",\"medium\":\"https://randomuser.me/api/portraits/med/men/44.jpg\",\"thumbnail\":\"https://randomuser.me/api/portraits/thumb/men/44.jpg\"},\"nat\":\"US\"},{\"gender\":\"male\",\"name\":{\"title\":\"Mr\",\"first\":\"Lee\",\"last\":\"Adams\"},\"location\":{\"street\":{\"number\":2638,\"name\":\"Paddock Way\"},\"city\":\"Arvada\",\"state\":\"Pennsylvania\",\"country\":\"United States\",\"postcode\":60819,\"coordinates\":{\"latitude\":\"-58.3893\",\"longitude\":\"145.3448\"},\"timezone\":{\"offset\":\"+1:00\",\"description\":\"Brussels, Copenhagen, Madrid, Paris\"}},\"email\":\"lee.adams@example.com\",\"login\":{\"uuid\":\"42da94e3-676e-44a4-a3e0-907490b98629\",\"username\":\"sadgorilla631\",\"password\":\"freeway\",\"salt\":\"IziKoiUP\",\"md5\":\"2f2c08ea2273958013a574946f54a1b0\",\"sha1\":\"f96772a74ad52d6d2dbfe228a2d6f2959df919b3\",\"sha256\":\"22bfeeb48b4b78df650f726e78204e994c21a14874385bca774523f1385472e2\"},\"dob\":{\"date\":\"1986-12-03T21:50:34.926Z\",\"age\":36},\"registered\":{\"date\":\"2020-02-08T21:32:50.040Z\",\"age\":3},\"phone\":\"(627) 853-9495\",\"cell\":\"(697) 260-1449\",\"id\":{\"name\":\"SSN\",\"value\":\"019-95-5727\"},\"picture\":{\"large\":\"https://randomuser.me/api/portraits/men/42.jpg\",\"medium\":\"https://randomuser.me/api/portraits/med/men/42.jpg\",\"thumbnail\":\"https://randomuser.me/api/portraits/thumb/men/42.jpg\"},\"nat\":\"US\"},{\"gender\":\"male\",\"name\":{\"title\":\"Mr\",\"first\":\"Stanley\",\"last\":\"Ruiz\"},\"location\":{\"street\":{\"number\":8361,\"name\":\"Northaven Rd\"},\"city\":\"Ventura\",\"state\":\"Texas\",\"country\":\"United States\",\"postcode\":16655,\"coordinates\":{\"latitude\":\"-48.6998\",\"longitude\":\"-131.3279\"},\"timezone\":{\"offset\":\"-8:00\",\"description\":\"Pacific Time (US & Canada)\"}},\"email\":\"stanley.ruiz@example.com\",\"login\":{\"uuid\":\"ca5b69be-683c-4c85-a6f8-8fb0b0176e02\",\"username\":\"sadgoose852\",\"password\":\"girl\",\"salt\":\"16IRCaMu\",\"md5\":\"002c7a9d03e023f599ffc5be753505ba\",\"sha1\":\"b732d2897ae86120c533d10c37c4b6047dae8b3d\",\"sha256\":\"3a2c0d067f2de8cca1f6d5a70ed58f8c04cc56f931e627d927696ef0a5142186\"},\"dob\":{\"date\":\"1947-08-09T12:48:42.641Z\",\"age\":75},\"registered\":{\"date\":\"2009-06-20T06:42:00.053Z\",\"age\":13},\"phone\":\"(629) 241-6443\",\"cell\":\"(521) 744-9538\",\"id\":{\"name\":\"SSN\",\"value\":\"544-86-7657\"},\"picture\":{\"large\":\"https://randomuser.me/api/portraits/men/18.jpg\",\"medium\":\"https://randomuser.me/api/portraits/med/men/18.jpg\",\"thumbnail\":\"https://randomuser.me/api/portraits/thumb/men/18.jpg\"},\"nat\":\"US\"},{\"gender\":\"male\",\"name\":{\"title\":\"Mr\",\"first\":\"Hugh\",\"last\":\"Cooper\"},\"location\":{\"street\":{\"number\":5359,\"name\":\"Nowlin Rd\"},\"city\":\"Omaha\",\"state\":\"Florida\",\"country\":\"United States\",\"postcode\":91366,\"coordinates\":{\"latitude\":\"72.5603\",\"longitude\":\"166.0680\"},\"timezone\":{\"offset\":\"+4:00\",\"description\":\"Abu Dhabi, Muscat, Baku, Tbilisi\"}},\"email\":\"hugh.cooper@example.com\",\"login\":{\"uuid\":\"99c3cdec-2d8e-4d1d-a8b7-0a56b5d05384\",\"username\":\"redgorilla744\",\"password\":\"manman\",\"salt\":\"fDRCOgqo\",\"md5\":\"53454c9813fee8d519ddcb8f5e50fa40\",\"sha1\":\"ccb07d0d6f873a8c8d7b1465c50d6e2e7a71860f\",\"sha256\":\"815b36838ac6c27d2d21d4ed1365997ce409a706ef8a886a470834c87599d9b9\"},\"dob\":{\"date\":\"1954-04-06T03:43:14.687Z\",\"age\":69},\"registered\":{\"date\":\"2016-07-01T21:41:05.456Z\",\"age\":6},\"phone\":\"(778) 290-6595\",\"cell\":\"(635) 872-7033\",\"id\":{\"name\":\"SSN\",\"value\":\"030-54-1615\"},\"picture\":{\"large\":\"https://randomuser.me/api/portraits/men/66.jpg\",\"medium\":\"https://randomuser.me/api/portraits/med/men/66.jpg\",\"thumbnail\":\"https://randomuser.me/api/portraits/thumb/men/66.jpg\"},\"nat\":\"US\"},{\"gender\":\"male\",\"name\":{\"title\":\"Mr\",\"first\":\"Leo\",\"last\":\"Armstrong\"},\"location\":{\"street\":{\"number\":1937,\"name\":\"Nowlin Rd\"},\"city\":\"Belen\",\"state\":\"Oregon\",\"country\":\"United States\",\"postcode\":48008,\"coordinates\":{\"latitude\":\"83.3037\",\"longitude\":\"-138.4272\"},\"timezone\":{\"offset\":\"+10:00\",\"description\":\"Eastern Australia, Guam, Vladivostok\"}},\"email\":\"leo.armstrong@example.com\",\"login\":{\"uuid\":\"72a76573-2b76-4e94-9977-caba9c662988\",\"username\":\"redtiger729\",\"password\":\"jayden\",\"salt\":\"DQfHF4q3\",\"md5\":\"dde463a28eaaa89a2eda2b975e02c6b9\",\"sha1\":\"fdfcd618f72cf4e32a4384efc5f3ec879bea0c22\",\"sha256\":\"3645c6af241658fdccd6f9dd88144b712533d6a5402f9dadd2fa96a05ba9db2d\"},\"dob\":{\"date\":\"1958-03-30T10:30:40.223Z\",\"age\":65},\"registered\":{\"date\":\"2016-10-28T20:22:25.305Z\",\"age\":6},\"phone\":\"(376) 348-1886\",\"cell\":\"(437) 393-7039\",\"id\":{\"name\":\"SSN\",\"value\":\"325-63-3666\"},\"picture\":{\"large\":\"https://randomuser.me/api/portraits/men/45.jpg\",\"medium\":\"https://randomuser.me/api/portraits/med/men/45.jpg\",\"thumbnail\":\"https://randomuser.me/api/portraits/thumb/men/45.jpg\"},\"nat\":\"US\"},{\"gender\":\"male\",\"name\":{\"title\":\"Mr\",\"first\":\"Harry\",\"last\":\"Walters\"},\"location\":{\"street\":{\"number\":9884,\"name\":\"Depaul Dr\"},\"city\":\"Cambridge\",\"state\":\"Maryland\",\"country\":\"United States\",\"postcode\":26526,\"coordinates\":{\"latitude\":\"25.2123\",\"longitude\":\"-120.8359\"},\"timezone\":{\"offset\":\"+3:30\",\"description\":\"Tehran\"}},\"email\":\"harry.walters@example.com\",\"login\":{\"uuid\":\"e17b7a14-39b6-4b2b-aabe-0f0a9f8948cb\",\"username\":\"silverladybug755\",\"password\":\"wendy1\",\"salt\":\"dMKnEG4w\",\"md5\":\"de666d8dea8407b421517b18928de879\",\"sha1\":\"4a80ab6609d66be8347ca635ff373e98dfa162d9\",\"sha256\":\"e3bf23232b0e43f5744943e407afdc08583b6398fe79d81c1db5366998f904b3\"},\"dob\":{\"date\":\"1966-10-12T16:31:04.804Z\",\"age\":56},\"registered\":{\"date\":\"2003-07-26T08:34:50.521Z\",\"age\":19},\"phone\":\"(430) 820-1764\",\"cell\":\"(321) 793-0383\",\"id\":{\"name\":\"SSN\",\"value\":\"799-80-3558\"},\"picture\":{\"large\":\"https://randomuser.me/api/portraits/men/70.jpg\",\"medium\":\"https://randomuser.me/api/portraits/med/men/70.jpg\",\"thumbnail\":\"https://randomuser.me/api/portraits/thumb/men/70.jpg\"},\"nat\":\"US\"},{\"gender\":\"male\",\"name\":{\"title\":\"Mr\",\"first\":\"Chad\",\"last\":\"Richardson\"},\"location\":{\"street\":{\"number\":1555,\"name\":\"Blossom Hill Rd\"},\"city\":\"Fairfield\",\"state\":\"Montana\",\"country\":\"United States\",\"postcode\":67746,\"coordinates\":{\"latitude\":\"-48.7990\",\"longitude\":\"95.5850\"},\"timezone\":{\"offset\":\"+9:00\",\"description\":\"Tokyo, Seoul, Osaka, Sapporo, Yakutsk\"}},\"email\":\"chad.richardson@example.com\",\"login\":{\"uuid\":\"05505197-2929-4d90-b381-b67a188e4e7a\",\"username\":\"redcat417\",\"password\":\"knickerless\",\"salt\":\"45hjM1YP\",\"md5\":\"1321e68ab170c3c5d7e83382f52d5e2f\",\"sha1\":\"1c740ebc8f79746d93ffa9a27c2f123a6684da6f\",\"sha256\":\"8d4cae2e823731828d4beae9be3741dad2e4ad7926083627c80cc0039fbf05d0\"},\"dob\":{\"date\":\"1948-05-08T04:45:13.579Z\",\"age\":75},\"registered\":{\"date\":\"2014-11-09T21:37:42.152Z\",\"age\":8},\"phone\":\"(308) 958-3581\",\"cell\":\"(793) 958-8982\",\"id\":{\"name\":\"SSN\",\"value\":\"239-91-3365\"},\"picture\":{\"large\":\"https://randomuser.me/api/portraits/men/39.jpg\",\"medium\":\"https://randomuser.me/api/portraits/med/men/39.jpg\",\"thumbnail\":\"https://randomuser.me/api/portraits/thumb/men/39.jpg\"},\"nat\":\"US\"},{\"gender\":\"male\",\"name\":{\"title\":\"Mr\",\"first\":\"Duane\",\"last\":\"Hanson\"},\"location\":{\"street\":{\"number\":5696,\"name\":\"Ash Dr\"},\"city\":\"Albany\",\"state\":\"Wyoming\",\"country\":\"United States\",\"postcode\":93839,\"coordinates\":{\"latitude\":\"76.0555\",\"longitude\":\"71.9529\"},\"timezone\":{\"offset\":\"+7:00\",\"description\":\"Bangkok, Hanoi, Jakarta\"}},\"email\":\"duane.hanson@example.com\",\"login\":{\"uuid\":\"3b73ca26-e2ed-4946-82e5-b05f549955bb\",\"username\":\"organicmouse540\",\"password\":\"jackal\",\"salt\":\"dxZNw1JM\",\"md5\":\"42db0f8e8fd8da21cb65ed2fc9cfc000\",\"sha1\":\"d782941ce89f44c86cd94f49021c0bdf43802909\",\"sha256\":\"58bae9c3bff5e5535ce96380c10bb3500ec56482cb86cabc20204a555f74c9a1\"},\"dob\":{\"date\":\"1952-09-21T20:22:11.190Z\",\"age\":70},\"registered\":{\"date\":\"2003-09-24T06:41:29.067Z\",\"age\":19},\"phone\":\"(353) 432-0296\",\"cell\":\"(723) 551-9182\",\"id\":{\"name\":\"SSN\",\"value\":\"561-10-6653\"},\"picture\":{\"large\":\"https://randomuser.me/api/portraits/men/52.jpg\",\"medium\":\"https://randomuser.me/api/portraits/med/men/52.jpg\",\"thumbnail\":\"https://randomuser.me/api/portraits/thumb/men/52.jpg\"},\"nat\":\"US\"},{\"gender\":\"male\",\"name\":{\"title\":\"Mr\",\"first\":\"Jorge\",\"last\":\"Bell\"},\"location\":{\"street\":{\"number\":1070,\"name\":\"E Sandy Lake Rd\"},\"city\":\"Sioux Falls\",\"state\":\"Connecticut\",\"country\":\"United States\",\"postcode\":10357,\"coordinates\":{\"latitude\":\"18.7961\",\"longitude\":\"-132.2325\"},\"timezone\":{\"offset\":\"+3:30\",\"description\":\"Tehran\"}},\"email\":\"jorge.bell@example.com\",\"login\":{\"uuid\":\"6e9f2262-0993-478e-9fc7-b61b540c412c\",\"username\":\"yellowmouse932\",\"password\":\"nathan1\",\"salt\":\"jFH6DiJi\",\"md5\":\"1552599e61e9fa2118b77cdda1687285\",\"sha1\":\"96d197c7ac4b6cecd7f41009277019557676671d\",\"sha256\":\"123e930812a7061b6a1debfa9c2a55baa02bfb6b938a374c4f37d14ab2194dfc\"},\"dob\":{\"date\":\"1946-03-17T06:53:21.744Z\",\"age\":77},\"registered\":{\"date\":\"2016-05-07T07:20:41.993Z\",\"age\":7},\"phone\":\"(765) 341-7867\",\"cell\":\"(520) 811-0928\",\"id\":{\"name\":\"SSN\",\"value\":\"023-76-4146\"},\"picture\":{\"large\":\"https://randomuser.me/api/portraits/men/87.jpg\",\"medium\":\"https://randomuser.me/api/portraits/med/men/87.jpg\",\"thumbnail\":\"https://randomuser.me/api/portraits/thumb/men/87.jpg\"},\"nat\":\"US\"},{\"gender\":\"male\",\"name\":{\"title\":\"Mr\",\"first\":\"Douglas\",\"last\":\"Frazier\"},\"location\":{\"street\":{\"number\":7659,\"name\":\"Marsh Ln\"},\"city\":\"Allentown\",\"state\":\"Georgia\",\"country\":\"United States\",\"postcode\":20387,\"coordinates\":{\"latitude\":\"33.6829\",\"longitude\":\"-15.5562\"},\"timezone\":{\"offset\":\"+3:00\",\"description\":\"Baghdad, Riyadh, Moscow, St. Petersburg\"}},\"email\":\"douglas.frazier@example.com\",\"login\":{\"uuid\":\"331be515-c5ce-4fc1-998d-42ce2048aee2\",\"username\":\"browncat848\",\"password\":\"quattro\",\"salt\":\"OVeP9wkY\",\"md5\":\"2d4f063163efe36361bead5e0f16f41b\",\"sha1\":\"68c8ea528b10f2f5643b39a2d9061d6b1f1792b3\",\"sha256\":\"f6116a241f7882836c8d19806d3be009449ca3e0a1c668398c2c554df123dfd9\"},\"dob\":{\"date\":\"1974-06-19T10:30:24.514Z\",\"age\":48},\"registered\":{\"date\":\"2013-08-03T21:23:51.178Z\",\"age\":9},\"phone\":\"(422) 962-6504\",\"cell\":\"(337) 540-9608\",\"id\":{\"name\":\"SSN\",\"value\":\"256-92-1806\"},\"picture\":{\"large\":\"https://randomuser.me/api/portraits/men/71.jpg\",\"medium\":\"https://randomuser.me/api/portraits/med/men/71.jpg\",\"thumbnail\":\"https://randomuser.me/api/portraits/thumb/men/71.jpg\"},\"nat\":\"US\"}],\"info\":{\"seed\":\"91060272112a5d84\",\"results\":10,\"page\":1,\"version\":\"1.4\"}}'"
      ]
     },
     "execution_count": 26,
     "metadata": {},
     "output_type": "execute_result"
    }
   ],
   "source": [
    "response.text"
   ]
  },
  {
   "cell_type": "code",
   "execution_count": 27,
   "metadata": {},
   "outputs": [],
   "source": [
    "data = json.loads(response.text)"
   ]
  },
  {
   "cell_type": "markdown",
   "metadata": {},
   "source": [
    "### Check the type of variable data"
   ]
  },
  {
   "cell_type": "code",
   "execution_count": 31,
   "metadata": {},
   "outputs": [
    {
     "data": {
      "text/plain": [
       "dict"
      ]
     },
     "execution_count": 31,
     "metadata": {},
     "output_type": "execute_result"
    }
   ],
   "source": [
    "type(data)"
   ]
  },
  {
   "cell_type": "markdown",
   "metadata": {},
   "source": [
    "### Loop through the dictionary and print all first names"
   ]
  },
  {
   "cell_type": "code",
   "execution_count": 32,
   "metadata": {},
   "outputs": [
    {
     "name": "stdout",
     "output_type": "stream",
     "text": [
      "Larry\n",
      "Lee\n",
      "Stanley\n",
      "Hugh\n",
      "Leo\n",
      "Harry\n",
      "Chad\n",
      "Duane\n",
      "Jorge\n",
      "Douglas\n"
     ]
    }
   ],
   "source": [
    "for result in data[\"results\"]:\n",
    "    first_name = result[\"name\"][\"first\"]\n",
    "    print(first_name)"
   ]
  },
  {
   "cell_type": "markdown",
   "metadata": {},
   "source": [
    "### Print out all the names of the astronauts who are right now in space."
   ]
  },
  {
   "cell_type": "code",
   "execution_count": 40,
   "metadata": {},
   "outputs": [
    {
     "data": {
      "text/plain": [
       "{'message': 'success',\n",
       " 'number': 10,\n",
       " 'people': [{'craft': 'ISS', 'name': 'Sergey Prokopyev'},\n",
       "  {'craft': 'ISS', 'name': 'Dmitry Petelin'},\n",
       "  {'craft': 'ISS', 'name': 'Frank Rubio'},\n",
       "  {'craft': 'Shenzhou 15', 'name': 'Fei Junlong'},\n",
       "  {'craft': 'Shenzhou 15', 'name': 'Deng Qingming'},\n",
       "  {'craft': 'Shenzhou 15', 'name': 'Zhang Lu'},\n",
       "  {'craft': 'ISS', 'name': 'Stephen Bowen'},\n",
       "  {'craft': 'ISS', 'name': 'Warren Hoburg'},\n",
       "  {'craft': 'ISS', 'name': 'Sultan Alneyadi'},\n",
       "  {'craft': 'ISS', 'name': 'Andrey Fedyaev'}]}"
      ]
     },
     "execution_count": 40,
     "metadata": {},
     "output_type": "execute_result"
    }
   ],
   "source": [
    "url = \"http://api.open-notify.org/astros.json\"\n",
    "response = requests.get(url)\n",
    "data = response.json()\n",
    "data"
   ]
  },
  {
   "cell_type": "code",
   "execution_count": 39,
   "metadata": {},
   "outputs": [
    {
     "name": "stdout",
     "output_type": "stream",
     "text": [
      "Sergey Prokopyev\n",
      "Dmitry Petelin\n",
      "Frank Rubio\n",
      "Fei Junlong\n",
      "Deng Qingming\n",
      "Zhang Lu\n",
      "Stephen Bowen\n",
      "Warren Hoburg\n",
      "Sultan Alneyadi\n",
      "Andrey Fedyaev\n"
     ]
    }
   ],
   "source": [
    "astronauts = data[\"people\"]\n",
    "for astronaut in astronauts:\n",
    "    print(astronaut[\"name\"])"
   ]
  },
  {
   "cell_type": "markdown",
   "metadata": {},
   "source": [
    "### Print the number of people that are right now in space"
   ]
  },
  {
   "cell_type": "code",
   "execution_count": 41,
   "metadata": {},
   "outputs": [
    {
     "name": "stdout",
     "output_type": "stream",
     "text": [
      "Number of people in space: 10\n"
     ]
    }
   ],
   "source": [
    "number_of_people = data[\"number\"]\n",
    "print(\"Number of people in space:\", number_of_people)"
   ]
  },
  {
   "cell_type": "markdown",
   "metadata": {},
   "source": [
    "### Loop through the dictionary and print all first names Use pretty-print (pprint)"
   ]
  },
  {
   "cell_type": "code",
   "execution_count": 43,
   "metadata": {},
   "outputs": [
    {
     "name": "stdout",
     "output_type": "stream",
     "text": [
      "{'message': 'success',\n",
      " 'number': 10,\n",
      " 'people': [{'craft': 'ISS', 'name': 'Sergey Prokopyev'},\n",
      "            {'craft': 'ISS', 'name': 'Dmitry Petelin'},\n",
      "            {'craft': 'ISS', 'name': 'Frank Rubio'},\n",
      "            {'craft': 'Shenzhou 15', 'name': 'Fei Junlong'},\n",
      "            {'craft': 'Shenzhou 15', 'name': 'Deng Qingming'},\n",
      "            {'craft': 'Shenzhou 15', 'name': 'Zhang Lu'},\n",
      "            {'craft': 'ISS', 'name': 'Stephen Bowen'},\n",
      "            {'craft': 'ISS', 'name': 'Warren Hoburg'},\n",
      "            {'craft': 'ISS', 'name': 'Sultan Alneyadi'},\n",
      "            {'craft': 'ISS', 'name': 'Andrey Fedyaev'}]}\n"
     ]
    }
   ],
   "source": [
    "pprint(data)"
   ]
  },
  {
   "cell_type": "code",
   "execution_count": 3,
   "metadata": {},
   "outputs": [
    {
     "data": {
      "text/plain": [
       "{'timestamp': 1684579723,\n",
       " 'message': 'success',\n",
       " 'iss_position': {'latitude': '-51.5078', 'longitude': '-18.8641'}}"
      ]
     },
     "execution_count": 3,
     "metadata": {},
     "output_type": "execute_result"
    }
   ],
   "source": [
    "#load iss data\n",
    "url_iss = \"http://api.open-notify.org/iss-now.json\"\n",
    "response_iss = requests.get(url_iss)\n",
    "data_iss = response_iss.json()\n",
    "data_iss\n"
   ]
  },
  {
   "cell_type": "code",
   "execution_count": null,
   "metadata": {},
   "outputs": [],
   "source": []
  }
 ],
 "metadata": {
  "kernelspec": {
   "display_name": "Python 3.9.6 64-bit",
   "language": "python",
   "name": "python3"
  },
  "language_info": {
   "codemirror_mode": {
    "name": "ipython",
    "version": 3
   },
   "file_extension": ".py",
   "mimetype": "text/x-python",
   "name": "python",
   "nbconvert_exporter": "python",
   "pygments_lexer": "ipython3",
   "version": "3.9.6"
  },
  "orig_nbformat": 4,
  "vscode": {
   "interpreter": {
    "hash": "31f2aee4e71d21fbe5cf8b01ff0e069b9275f58929596ceb00d14d90e3e16cd6"
   }
  }
 },
 "nbformat": 4,
 "nbformat_minor": 2
}
